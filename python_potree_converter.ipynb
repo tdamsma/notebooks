{
 "cells": [
  {
   "cell_type": "code",
   "execution_count": 1,
   "metadata": {
    "collapsed": true
   },
   "outputs": [],
   "source": [
    "# script to convert *.las files to potree 1.6 compatible octrees using laspy and numpy.\n",
    "# A great source for *laz files is http://3dsm.bk.tudelft.nl/matahn \n",
    "#\n",
    "# Code is setup to enable parallel processing\n",
    "# TODO: optimize code\n",
    "# TODO: allow multicore processing\n",
    "# TODO: allow more paramaters than just x,y,z to be parsed\n",
    "# TODO: change code to module\n",
    "# TODO: "
   ]
  },
  {
   "cell_type": "code",
   "execution_count": 2,
   "metadata": {
    "collapsed": false
   },
   "outputs": [],
   "source": [
    "import os\n",
    "import laspy \n",
    "import numpy as np\n",
    "from pprint import pprint\n",
    "import json\n",
    "from pathlib import Path\n",
    "import copy"
   ]
  },
  {
   "cell_type": "code",
   "execution_count": 3,
   "metadata": {
    "collapsed": false
   },
   "outputs": [],
   "source": [
    "# convert laz to las using las2las\n",
    "LAS_DIRECTORY = 'F:\\pointclouds'\n",
    "p = Path(LAS_DIRECTORY)\n",
    "for f in p.glob('*.laz'):\n",
    "    fn = f.__str__()\n",
    "    fn_new = fn.replace('.laz', '.las')\n",
    "    if not os.path.exists(fn_new):\n",
    "        cmd = r'\"C:\\Program Files (x86)\\lastools\\bin\\las2las.exe\" -i {} -o {} '.format(fn,fn_new)\n",
    "        os.system(cmd)"
   ]
  },
  {
   "cell_type": "code",
   "execution_count": 4,
   "metadata": {
    "collapsed": false
   },
   "outputs": [],
   "source": [
    "# make a generator for file headers\n",
    "# http://pythonhosted.org/laspy/header.html\n",
    "p = Path(LAS_DIRECTORY)\n",
    "def headers():\n",
    "    for f in p.glob('*.las'):\n",
    "        fn = f.__str__()\n",
    "        lasfile = laspy.file.File(fn)\n",
    "        yield lasfile.header    "
   ]
  },
  {
   "cell_type": "code",
   "execution_count": 5,
   "metadata": {
    "collapsed": false
   },
   "outputs": [
    {
     "name": "stdout",
     "output_type": "stream",
     "text": [
      "[[  1.80816630e+05   4.89604710e+05   1.67080000e+02]\n",
      " [  7.09043200e+04   3.16084240e+05  -1.98100000e+01]]\n",
      "[0.01, 0.01, 0.01]\n",
      "[0.01, 0.01, 0.01]\n",
      "[0.01, 0.01, 0.01]\n",
      "[0.01, 0.01, 0.01]\n",
      "[0.01, 0.01, 0.01]\n",
      "[0.01, 0.01, 0.01]\n",
      "[0.01, 0.01, 0.01]\n",
      "[0.01, 0.01, 0.01]\n"
     ]
    },
    {
     "data": {
      "text/plain": [
       "[None, None, None, None, None, None, None, None]"
      ]
     },
     "execution_count": 5,
     "metadata": {},
     "output_type": "execute_result"
    }
   ],
   "source": [
    "bounds = np.array((\n",
    "    np.max([hdr.max for hdr in headers()],axis=0),\n",
    "    np.min([hdr.min for hdr in headers()],axis=0),\n",
    "    ))\n",
    "print(bounds)\n",
    "[print(hdr.scale) for hdr in headers()]"
   ]
  },
  {
   "cell_type": "code",
   "execution_count": 6,
   "metadata": {
    "collapsed": false
   },
   "outputs": [
    {
     "name": "stdout",
     "output_type": "stream",
     "text": [
      "173520.47\n",
      "11.0 [125860 402844     73]\n"
     ]
    }
   ],
   "source": [
    "# define maximum bounding cube for data. MUST be cube, so all sides equal length\n",
    "min_size = max(bounds[0,:] - bounds[1,:])\n",
    "print(min_size)\n",
    "suggested_centers = ((bounds[0,:] + bounds[1,:])/2).astype(np.dtype('<i4'))\n",
    "suggested_levels = np.ceil(np.log2(min_size/100))\n",
    "print(suggested_levels,suggested_centers)"
   ]
  },
  {
   "cell_type": "code",
   "execution_count": 7,
   "metadata": {
    "collapsed": false
   },
   "outputs": [
    {
     "name": "stdout",
     "output_type": "stream",
     "text": [
      "{'y': array([300444, 505244]), 'z': array([-32400, 172400]), 'x': array([ 23460, 228260])}\n",
      "[[True, True, True], [True, True, True], [True, True, True], [True, True, True], [True, True, True], [True, True, True], [True, True, True], [True, True, True]]\n"
     ]
    }
   ],
   "source": [
    "CENTERS = {'x': 125860, 'y':402844, 'z':70000}\n",
    "SMALLEST_TILE_SIZE = 100 # meter\n",
    "LEVELS = 11 \n",
    "SCALE = 0.01\n",
    "OUTPUT_DIR = Path(r'D:\\pointclouds\\data')\n",
    "# define size as nice power of two (not necessary)\n",
    "SIZE = SMALLEST_TILE_SIZE * 2 ** LEVELS\n",
    "BBOX = {k: np.array([v-SIZE/2, v+SIZE/2]).astype('i4') for k, v in CENTERS.items()}\n",
    "\n",
    "print(BBOX)\n",
    "# check if all points are within bounding box\n",
    "print([[h_min>=BBOX[dim][0] and h_max<=BBOX[dim][1] for\n",
    "       dim, h_min, h_max in zip(['x','y','z'],\n",
    "                                hdr.min,\n",
    "                                hdr.max)] for\n",
    "       hdr in headers()])\n",
    "\n"
   ]
  },
  {
   "cell_type": "code",
   "execution_count": 8,
   "metadata": {
    "collapsed": false
   },
   "outputs": [
    {
     "name": "stdout",
     "output_type": "stream",
     "text": [
      "D:\\pointclouds\\data\\r\\r000.bin\n",
      "D:\\pointclouds\\data\\r\\1123\\1231\\r112312312.bin\n",
      "D:\\pointclouds\\data\\r\\7000\\r7000.bin\n",
      "D:\\pointclouds\\data\\r\\r.bin\n"
     ]
    }
   ],
   "source": [
    "HIERACHY_STEP_SIZE = 4\n",
    "def address_to_filename(address):\n",
    "    if address is '':\n",
    "        return Path(OUTPUT_DIR,'r','r.bin')\n",
    "\n",
    "    parts = [address[i:i+HIERACHY_STEP_SIZE] for i in range(0, len(address)+1, HIERACHY_STEP_SIZE)]\n",
    "    parts[-1]='r' + address + '.bin'\n",
    "    return Path(OUTPUT_DIR,'r',*parts).__str__()\n",
    "\n",
    "print(address_to_filename('000'))\n",
    "print(address_to_filename('112312312'))  \n",
    "print(address_to_filename('7000'))\n",
    "print(address_to_filename(''))\n"
   ]
  },
  {
   "cell_type": "code",
   "execution_count": 9,
   "metadata": {
    "collapsed": false
   },
   "outputs": [
    {
     "name": "stdout",
     "output_type": "stream",
     "text": [
      "0 0 0\n",
      "0 4360000 17520000\n",
      "10240000 10240000 10240000\n",
      "0 0 0\n"
     ]
    }
   ],
   "source": [
    "def address_2_origin(address):\n",
    "    \"\"\" Each tile is saved in coordinates relitive to the origin of the tile.\n",
    "    The origin of a file can be calculated from the bounding box (BBOX) and the address\n",
    "    \"\"\"\n",
    "    if address == '':\n",
    "        address = '0'\n",
    "\n",
    "    # return origin relative to bounding box origin in unscaled values\n",
    "    level = len(address)\n",
    "    bin_parts = [bin(int(c)+8)[3::] for c in address]\n",
    "    x0 = int((int(''.join([b[0] for b in bin_parts]),2) / 2**level) * SIZE / SCALE)\n",
    "    y0 = int((int(''.join([b[1] for b in bin_parts]),2) / 2**level) * SIZE / SCALE)\n",
    "    z0 = int((int(''.join([b[2] for b in bin_parts]),2) / 2**level) * SIZE / SCALE)\n",
    "    return (x0, y0, z0)\n",
    "\n",
    "print(*address_2_origin('000'))\n",
    "print(*address_2_origin('112312312'))  \n",
    "print(*address_2_origin('7000'))\n",
    "print(*address_2_origin(''))"
   ]
  },
  {
   "cell_type": "code",
   "execution_count": 10,
   "metadata": {
    "collapsed": false
   },
   "outputs": [
    {
     "name": "stdout",
     "output_type": "stream",
     "text": [
      "removed 0 files at level 0\n",
      "removed 0 files at level 1\n",
      "removed 0 files at level 2\n",
      "removed 0 files at level 3\n",
      "removed 0 files at level 4\n",
      "removed 0 files at level 5\n",
      "removed 0 files at level 6\n",
      "removed 0 files at level 7\n",
      "removed 0 files at level 8\n",
      "removed 0 files at level 9\n",
      "removed 0 files at level 10\n"
     ]
    }
   ],
   "source": [
    "p = Path(OUTPUT_DIR,'r')\n",
    "for n in range(0,LEVELS):\n",
    "    print('removed',len([f.unlink() for f in p.rglob('r'+ ('?' * n) + '.bin')]),'files at level', n)"
   ]
  },
  {
   "cell_type": "code",
   "execution_count": 11,
   "metadata": {
    "collapsed": true
   },
   "outputs": [],
   "source": [
    "p = Path(LAS_DIRECTORY)\n",
    "def lasfiles():\n",
    "    for f in p.glob('*.las'):\n",
    "         yield laspy.file.File(f.__str__())"
   ]
  },
  {
   "cell_type": "code",
   "execution_count": 12,
   "metadata": {
    "collapsed": false
   },
   "outputs": [
    {
     "name": "stdout",
     "output_type": "stream",
     "text": [
      "<laspy.header.HeaderManager object at 0x0000000005912128>\n",
      "<laspy.header.HeaderManager object at 0x000000000588AE10>\n",
      "<laspy.header.HeaderManager object at 0x00000000058AED30>\n",
      "<laspy.header.HeaderManager object at 0x00000000058A3FD0>\n"
     ]
    },
    {
     "ename": "MemoryError",
     "evalue": "",
     "output_type": "error",
     "traceback": [
      "\u001b[1;31m---------------------------------------------------------------------------\u001b[0m",
      "\u001b[1;31mMemoryError\u001b[0m                               Traceback (most recent call last)",
      "\u001b[1;32m<ipython-input-12-60375efe75ac>\u001b[0m in \u001b[0;36m<module>\u001b[1;34m()\u001b[0m\n\u001b[0;32m     18\u001b[0m \u001b[1;33m\u001b[0m\u001b[0m\n\u001b[0;32m     19\u001b[0m     \u001b[1;31m# put all points in bins\u001b[0m\u001b[1;33m\u001b[0m\u001b[1;33m\u001b[0m\u001b[0m\n\u001b[1;32m---> 20\u001b[1;33m     \u001b[0mbinned\u001b[0m \u001b[1;33m=\u001b[0m \u001b[1;33m[\u001b[0m\u001b[0mnp\u001b[0m\u001b[1;33m.\u001b[0m\u001b[0mdigitize\u001b[0m\u001b[1;33m(\u001b[0m\u001b[0mgetattr\u001b[0m\u001b[1;33m(\u001b[0m\u001b[0mlasfile\u001b[0m\u001b[1;33m,\u001b[0m\u001b[0mdim\u001b[0m\u001b[1;33m.\u001b[0m\u001b[0mupper\u001b[0m\u001b[1;33m(\u001b[0m\u001b[1;33m)\u001b[0m\u001b[1;33m)\u001b[0m\u001b[1;33m,\u001b[0m\u001b[0mbins\u001b[0m\u001b[1;33m[\u001b[0m\u001b[0mdim\u001b[0m\u001b[1;33m]\u001b[0m\u001b[1;33m)\u001b[0m \u001b[1;32mfor\u001b[0m \u001b[0mdim\u001b[0m \u001b[1;32min\u001b[0m \u001b[1;33m[\u001b[0m\u001b[1;34m'x'\u001b[0m\u001b[1;33m,\u001b[0m\u001b[1;34m'y'\u001b[0m\u001b[1;33m,\u001b[0m\u001b[1;34m'z'\u001b[0m\u001b[1;33m]\u001b[0m\u001b[1;33m]\u001b[0m\u001b[1;33m\u001b[0m\u001b[0m\n\u001b[0m\u001b[0;32m     21\u001b[0m \u001b[1;33m\u001b[0m\u001b[0m\n\u001b[0;32m     22\u001b[0m     \u001b[1;32mfor\u001b[0m \u001b[0mx\u001b[0m \u001b[1;32min\u001b[0m \u001b[0mset\u001b[0m\u001b[1;33m(\u001b[0m\u001b[0mbinned\u001b[0m\u001b[1;33m[\u001b[0m\u001b[1;36m0\u001b[0m\u001b[1;33m]\u001b[0m\u001b[1;33m)\u001b[0m\u001b[1;33m:\u001b[0m\u001b[1;33m\u001b[0m\u001b[0m\n",
      "\u001b[1;32m<ipython-input-12-60375efe75ac>\u001b[0m in \u001b[0;36m<listcomp>\u001b[1;34m(.0)\u001b[0m\n\u001b[0;32m     18\u001b[0m \u001b[1;33m\u001b[0m\u001b[0m\n\u001b[0;32m     19\u001b[0m     \u001b[1;31m# put all points in bins\u001b[0m\u001b[1;33m\u001b[0m\u001b[1;33m\u001b[0m\u001b[0m\n\u001b[1;32m---> 20\u001b[1;33m     \u001b[0mbinned\u001b[0m \u001b[1;33m=\u001b[0m \u001b[1;33m[\u001b[0m\u001b[0mnp\u001b[0m\u001b[1;33m.\u001b[0m\u001b[0mdigitize\u001b[0m\u001b[1;33m(\u001b[0m\u001b[0mgetattr\u001b[0m\u001b[1;33m(\u001b[0m\u001b[0mlasfile\u001b[0m\u001b[1;33m,\u001b[0m\u001b[0mdim\u001b[0m\u001b[1;33m.\u001b[0m\u001b[0mupper\u001b[0m\u001b[1;33m(\u001b[0m\u001b[1;33m)\u001b[0m\u001b[1;33m)\u001b[0m\u001b[1;33m,\u001b[0m\u001b[0mbins\u001b[0m\u001b[1;33m[\u001b[0m\u001b[0mdim\u001b[0m\u001b[1;33m]\u001b[0m\u001b[1;33m)\u001b[0m \u001b[1;32mfor\u001b[0m \u001b[0mdim\u001b[0m \u001b[1;32min\u001b[0m \u001b[1;33m[\u001b[0m\u001b[1;34m'x'\u001b[0m\u001b[1;33m,\u001b[0m\u001b[1;34m'y'\u001b[0m\u001b[1;33m,\u001b[0m\u001b[1;34m'z'\u001b[0m\u001b[1;33m]\u001b[0m\u001b[1;33m]\u001b[0m\u001b[1;33m\u001b[0m\u001b[0m\n\u001b[0m\u001b[0;32m     21\u001b[0m \u001b[1;33m\u001b[0m\u001b[0m\n\u001b[0;32m     22\u001b[0m     \u001b[1;32mfor\u001b[0m \u001b[0mx\u001b[0m \u001b[1;32min\u001b[0m \u001b[0mset\u001b[0m\u001b[1;33m(\u001b[0m\u001b[0mbinned\u001b[0m\u001b[1;33m[\u001b[0m\u001b[1;36m0\u001b[0m\u001b[1;33m]\u001b[0m\u001b[1;33m)\u001b[0m\u001b[1;33m:\u001b[0m\u001b[1;33m\u001b[0m\u001b[0m\n",
      "\u001b[1;31mMemoryError\u001b[0m: "
     ]
    }
   ],
   "source": [
    "#TODO: split in subfunctions\n",
    "\n",
    "for lasfile in lasfiles():\n",
    "    \n",
    "    hdr = lasfile.header\n",
    "    print(hdr)\n",
    "    # to avoid duplicating the point coordinates in memory, discretize the points based on their raw coordinates\n",
    "    # in unscaled integers\n",
    "    \n",
    "    bbox_unscaled = {dim: ((BBOX[dim]-offset)/scale).astype('i4') for \n",
    "                   dim, scale, offset in zip(['x','y','z'], hdr.scale, hdr.offset)}\n",
    "\n",
    "    # determine the bins to classify points\n",
    "    bins = {dim: np.linspace(bbox_unscaled[dim][0],\n",
    "                             bbox_unscaled[dim][1],\n",
    "                             2**(LEVELS)+1\n",
    "                       ).astype('i4')[1:-1] for dim in ['x','y','z']}\n",
    "\n",
    "    # put all points in bins\n",
    "    binned = [np.digitize(getattr(lasfile,dim.upper()),bins[dim]) for dim in ['x','y','z']]\n",
    "\n",
    "    for x in set(binned[0]):\n",
    "        p = np.equal(binned[0],x)\n",
    "        subset_x = [b[p] for b in binned]\n",
    "        address_x = bin(x + 2**LEVELS)[-LEVELS::]\n",
    "\n",
    "        for y in set(subset_x[1]):\n",
    "            q = np.equal(subset_x[1],y)\n",
    "            subset_xy = [b[q] for b in subset_x]\n",
    "            address_y = bin(y + 2**LEVELS)[-LEVELS::]\n",
    "\n",
    "            for z in set(subset_xy[2]):\n",
    "                r = np.equal(subset_xy[2],z)\n",
    "                subset_xyz = [b[r] for b in subset_xy]\n",
    "                address_z = bin(z + 2**LEVELS)[-LEVELS::]\n",
    "\n",
    "                # make filename of 0-7's\n",
    "                # https://github.com/potree/potree/blob/master/docs/file_format.md\n",
    "                address = ''.join([str(int(''.join((x,y,z)),2)) for x,y,z in zip(address_x,address_y,address_z)])\n",
    "                filename = address_to_filename(address)\n",
    "                # print(filename)\n",
    "\n",
    "                # extract relevant subset of data\n",
    "                subset = np.where(p)[0][q][r]\n",
    "\n",
    "                # convert points from int32 relative to hdr.scale and hdr.offset to uint32 relative to SCALE, BBOX\n",
    "                # and the tile box address\n",
    "                x0, y0, z0 = address_2_origin(address)\n",
    "\n",
    "                if not os.path.exists(os.path.dirname(filename)):\n",
    "                    os.makedirs(os.path.dirname(filename))\n",
    "                np.vstack((\n",
    "                     (((lasfile.X[subset] * hdr.scale[0]) + hdr.offset[0] - BBOX['x'][0]) / SCALE).astype('<u4') - x0,\n",
    "                     (((lasfile.Y[subset] * hdr.scale[1]) + hdr.offset[1] - BBOX['y'][0]) / SCALE).astype('<u4') - y0,\n",
    "                     (((lasfile.Z[subset] * hdr.scale[2]) + hdr.offset[2] - BBOX['z'][0]) / SCALE).astype('<u4') - z0\n",
    "                     )).transpose().tofile(filename)\n",
    "    lasfile.close()\n"
   ]
  },
  {
   "cell_type": "code",
   "execution_count": 34,
   "metadata": {
    "collapsed": false
   },
   "outputs": [
    {
     "data": {
      "text/plain": [
       "[]"
      ]
     },
     "execution_count": 34,
     "metadata": {},
     "output_type": "execute_result"
    }
   ],
   "source": []
  },
  {
   "cell_type": "code",
   "execution_count": 11,
   "metadata": {
    "collapsed": false
   },
   "outputs": [
    {
     "name": "stdout",
     "output_type": "stream",
     "text": [
      "['24343422457', '24343426633', '24343604102', '26161020166', '26161022506', '26161024540', '26161026473', '26161060162', '26161062035', '26161062720', '26161064560', '26161066413', '26161200522', '26161204360', '26161206724', '26161240675', '26161244073', '26161244706', '26161246677', '26161420340', '26161422362', '26161600415', '26161602524', '26741666326', '26743440706', '26743444142', '26743446011', '26743446651', '26743462651', '26743464522', '26743466413', '26743644162', '26745222613', '26745226637', '26745262722', '26745266746', '26745626035', '26747000251', '26747002106', '26747002744', '26747004611', '26747006431', '26747020277', '26747022144', '26747024073', '26747024706', '26747026617', '26747040455', '26747042342', '26747044213', '26747046071', '26747046704', '26747060564', '26747062455', '26747064344', '26747066257', '26747200453', '26747240142', '26747400075', '26747400722', '26747402633', '26747404706', '26747420106', '26747422031', '26747424055', '26747426344', '26747604071']\n"
     ]
    }
   ],
   "source": [
    "# from pathlib import Path\n",
    "import re\n",
    "only_digits = re.compile(r\"\\D\")\n",
    "\n",
    "p = Path(OUTPUT_DIR,'r')\n",
    "addresses = [only_digits.sub(\"\",paths.parts[-1]) for paths in p.glob('**/r*.bin')]\n",
    "print(addresses[::100])"
   ]
  },
  {
   "cell_type": "code",
   "execution_count": 19,
   "metadata": {
    "collapsed": false
   },
   "outputs": [],
   "source": [
    "# convert tree to tree\n",
    "tree = {}\n",
    "for a in addresses:\n",
    "    t = tree\n",
    "    for s in a:\n",
    "        if s not in t:\n",
    "            t[s] = {} \n",
    "        t = t[s]"
   ]
  },
  {
   "cell_type": "code",
   "execution_count": 20,
   "metadata": {
    "collapsed": false
   },
   "outputs": [],
   "source": [
    "# print(json.dumps(tree,sort_keys=True, indent=2, separators=(',', ': ')))\n",
    "# convert to list of all possible tiles, and their children\n",
    "\n",
    "def nodes_to_list(prefix, key, value):\n",
    "    hrc = [{'address':prefix+key,\n",
    "            'children': tuple(value.keys())}, \n",
    "          ]\n",
    "    \n",
    "    [hrc.extend(nodes_to_list(prefix+key,k,v)) for k, v in value.items()]\n",
    "    \n",
    "    return hrc\n",
    "\n",
    "hrc = nodes_to_list('','',tree)\n",
    "hrc.sort(key=lambda k: (len(k['address']), k['address']))\n"
   ]
  },
  {
   "cell_type": "code",
   "execution_count": 33,
   "metadata": {
    "collapsed": false
   },
   "outputs": [
    {
     "name": "stdout",
     "output_type": "stream",
     "text": [
      "D:\\pointclouds\\data\\r\\r.bin\n",
      "D:\\pointclouds\\data\\r\n"
     ]
    }
   ],
   "source": [
    "p = Path(r'D:\\pointclouds\\data\\r\\r.bin')\n",
    "print(p)\n",
    "print(p.parent)"
   ]
  },
  {
   "cell_type": "code",
   "execution_count": 34,
   "metadata": {
    "collapsed": false
   },
   "outputs": [
    {
     "name": "stdout",
     "output_type": "stream",
     "text": [
      "[{'address': '26747604506',\n",
      "  'children': (),\n",
      "  'directory': WindowsPath('D:/pointclouds/data/r/2674/7604'),\n",
      "  'filename': 'D:\\\\pointclouds\\\\data\\\\r\\\\2674\\\\7604\\\\r26747604506.bin',\n",
      "  'mask': 0,\n",
      "  'parentDirectory': WindowsPath('D:/pointclouds/data/r/2674/7604')},\n",
      " {'address': '26747604520',\n",
      "  'children': (),\n",
      "  'directory': WindowsPath('D:/pointclouds/data/r/2674/7604'),\n",
      "  'filename': 'D:\\\\pointclouds\\\\data\\\\r\\\\2674\\\\7604\\\\r26747604520.bin',\n",
      "  'mask': 0,\n",
      "  'parentDirectory': WindowsPath('D:/pointclouds/data/r/2674/7604')},\n",
      " {'address': '26747604522',\n",
      "  'children': (),\n",
      "  'directory': WindowsPath('D:/pointclouds/data/r/2674/7604'),\n",
      "  'filename': 'D:\\\\pointclouds\\\\data\\\\r\\\\2674\\\\7604\\\\r26747604522.bin',\n",
      "  'mask': 0,\n",
      "  'parentDirectory': WindowsPath('D:/pointclouds/data/r/2674/7604')},\n",
      " {'address': '26747604524',\n",
      "  'children': (),\n",
      "  'directory': WindowsPath('D:/pointclouds/data/r/2674/7604'),\n",
      "  'filename': 'D:\\\\pointclouds\\\\data\\\\r\\\\2674\\\\7604\\\\r26747604524.bin',\n",
      "  'mask': 0,\n",
      "  'parentDirectory': WindowsPath('D:/pointclouds/data/r/2674/7604')}]\n"
     ]
    }
   ],
   "source": [
    "for item in hrc:\n",
    "    filename = address_to_filename(item['address'])\n",
    "    item.update(\n",
    "        {\n",
    "            'mask': sum([2 ** int(c) for c in item['children']]),\n",
    "            'filename': filename,\n",
    "            'directory': Path(filename).parent,\n",
    "            'parentDirectory': Path(address_to_filename(item['address'][:-1])).parent\n",
    "        })\n",
    "    \n",
    "pprint(hrc[-5:-1])"
   ]
  },
  {
   "cell_type": "code",
   "execution_count": 35,
   "metadata": {
    "collapsed": false
   },
   "outputs": [],
   "source": [
    "dt = np.dtype([('x','<u4'),('y','<u4'),('z','<u4')])\n",
    "def read_file_at_address(address):\n",
    "    points = np.fromfile(address_to_filename(address),dtype=dt)\n",
    "    x0, y0, z0 = address_2_origin(address)\n",
    "    points['x'] += x0\n",
    "    points['y'] += y0\n",
    "    points['z'] += z0\n",
    "    return(points)"
   ]
  },
  {
   "cell_type": "code",
   "execution_count": 37,
   "metadata": {
    "collapsed": false
   },
   "outputs": [
    {
     "ename": "TypeError",
     "evalue": "argument should be string, bytes or integer, not WindowsPath",
     "output_type": "error",
     "traceback": [
      "\u001b[1;31m---------------------------------------------------------------------------\u001b[0m",
      "\u001b[1;31mTypeError\u001b[0m                                 Traceback (most recent call last)",
      "\u001b[1;32m<ipython-input-37-588b46936d75>\u001b[0m in \u001b[0;36m<module>\u001b[1;34m()\u001b[0m\n\u001b[0;32m      1\u001b[0m \u001b[1;32mfor\u001b[0m \u001b[0mh\u001b[0m \u001b[1;32min\u001b[0m \u001b[0mhrc\u001b[0m\u001b[1;33m[\u001b[0m\u001b[1;33m:\u001b[0m\u001b[1;33m:\u001b[0m\u001b[1;33m-\u001b[0m\u001b[1;36m1\u001b[0m\u001b[1;33m]\u001b[0m\u001b[1;33m:\u001b[0m\u001b[1;33m\u001b[0m\u001b[0m\n\u001b[1;32m----> 2\u001b[1;33m     \u001b[1;32mif\u001b[0m \u001b[1;32mnot\u001b[0m \u001b[0mos\u001b[0m\u001b[1;33m.\u001b[0m\u001b[0mpath\u001b[0m\u001b[1;33m.\u001b[0m\u001b[0mexists\u001b[0m\u001b[1;33m(\u001b[0m\u001b[0mh\u001b[0m\u001b[1;33m[\u001b[0m\u001b[1;34m'filename'\u001b[0m\u001b[1;33m]\u001b[0m\u001b[1;33m)\u001b[0m\u001b[1;33m:\u001b[0m\u001b[1;33m\u001b[0m\u001b[0m\n\u001b[0m\u001b[0;32m      3\u001b[0m         \u001b[0mpoints\u001b[0m \u001b[1;33m=\u001b[0m \u001b[0mnp\u001b[0m\u001b[1;33m.\u001b[0m\u001b[0mhstack\u001b[0m\u001b[1;33m(\u001b[0m\u001b[1;33m[\u001b[0m\u001b[0mread_file_at_address\u001b[0m\u001b[1;33m(\u001b[0m\u001b[0mh\u001b[0m\u001b[1;33m[\u001b[0m\u001b[1;34m'address'\u001b[0m\u001b[1;33m]\u001b[0m\u001b[1;33m+\u001b[0m\u001b[0mchild\u001b[0m\u001b[1;33m)\u001b[0m \u001b[1;32mfor\u001b[0m \u001b[0mchild\u001b[0m \u001b[1;32min\u001b[0m \u001b[0mh\u001b[0m\u001b[1;33m[\u001b[0m\u001b[1;34m'children'\u001b[0m\u001b[1;33m]\u001b[0m\u001b[1;33m]\u001b[0m\u001b[1;33m)\u001b[0m\u001b[1;33m\u001b[0m\u001b[0m\n\u001b[0;32m      4\u001b[0m \u001b[1;33m\u001b[0m\u001b[0m\n\u001b[0;32m      5\u001b[0m         \u001b[0mx0\u001b[0m\u001b[1;33m,\u001b[0m \u001b[0my0\u001b[0m\u001b[1;33m,\u001b[0m \u001b[0mz0\u001b[0m \u001b[1;33m=\u001b[0m \u001b[0maddress_2_origin\u001b[0m\u001b[1;33m(\u001b[0m\u001b[0mh\u001b[0m\u001b[1;33m[\u001b[0m\u001b[1;34m'address'\u001b[0m\u001b[1;33m]\u001b[0m\u001b[1;33m)\u001b[0m\u001b[1;33m\u001b[0m\u001b[0m\n",
      "\u001b[1;32mC:\\Python\\Miniconda3\\lib\\genericpath.py\u001b[0m in \u001b[0;36mexists\u001b[1;34m(path)\u001b[0m\n\u001b[0;32m     17\u001b[0m     \u001b[1;34m\"\"\"Test whether a path exists.  Returns False for broken symbolic links\"\"\"\u001b[0m\u001b[1;33m\u001b[0m\u001b[0m\n\u001b[0;32m     18\u001b[0m     \u001b[1;32mtry\u001b[0m\u001b[1;33m:\u001b[0m\u001b[1;33m\u001b[0m\u001b[0m\n\u001b[1;32m---> 19\u001b[1;33m         \u001b[0mos\u001b[0m\u001b[1;33m.\u001b[0m\u001b[0mstat\u001b[0m\u001b[1;33m(\u001b[0m\u001b[0mpath\u001b[0m\u001b[1;33m)\u001b[0m\u001b[1;33m\u001b[0m\u001b[0m\n\u001b[0m\u001b[0;32m     20\u001b[0m     \u001b[1;32mexcept\u001b[0m \u001b[0mOSError\u001b[0m\u001b[1;33m:\u001b[0m\u001b[1;33m\u001b[0m\u001b[0m\n\u001b[0;32m     21\u001b[0m         \u001b[1;32mreturn\u001b[0m \u001b[1;32mFalse\u001b[0m\u001b[1;33m\u001b[0m\u001b[0m\n",
      "\u001b[1;31mTypeError\u001b[0m: argument should be string, bytes or integer, not WindowsPath"
     ]
    }
   ],
   "source": [
    "for h in hrc[::-1]:\n",
    "    if not os.path.exists(h['filename']):\n",
    "        points = np.hstack([read_file_at_address(h['address']+child) for child in h['children']])\n",
    "        \n",
    "        x0, y0, z0 = address_2_origin(h['address'])\n",
    "        points['x'] -= x0\n",
    "        points['y'] -= y0\n",
    "        points['z'] -= z0\n",
    "\n",
    "        points[::8].tofile(h['filename'])\n",
    "    h['n_points'] = int(os.stat(h['filename']).st_size / dt.itemsize)\n",
    "        "
   ]
  },
  {
   "cell_type": "code",
   "execution_count": 17,
   "metadata": {
    "collapsed": false
   },
   "outputs": [
    {
     "ename": "KeyError",
     "evalue": "'directory'",
     "output_type": "error",
     "traceback": [
      "\u001b[1;31m---------------------------------------------------------------------------\u001b[0m",
      "\u001b[1;31mKeyError\u001b[0m                                  Traceback (most recent call last)",
      "\u001b[1;32m<ipython-input-17-38193f59d985>\u001b[0m in \u001b[0;36m<module>\u001b[1;34m()\u001b[0m\n\u001b[0;32m      8\u001b[0m \u001b[1;33m\u001b[0m\u001b[0m\n\u001b[0;32m      9\u001b[0m \u001b[1;33m\u001b[0m\u001b[0m\n\u001b[1;32m---> 10\u001b[1;33m \u001b[1;32mfor\u001b[0m \u001b[0md\u001b[0m \u001b[1;32min\u001b[0m \u001b[0mset\u001b[0m\u001b[1;33m(\u001b[0m\u001b[0mh\u001b[0m\u001b[1;33m[\u001b[0m\u001b[1;34m'directory'\u001b[0m\u001b[1;33m]\u001b[0m \u001b[1;32mfor\u001b[0m \u001b[0mh\u001b[0m \u001b[1;32min\u001b[0m \u001b[0mhrc\u001b[0m\u001b[1;33m)\u001b[0m\u001b[1;33m:\u001b[0m\u001b[1;33m\u001b[0m\u001b[0m\n\u001b[0m\u001b[0;32m     11\u001b[0m     hrc_data = np.array(\n\u001b[0;32m     12\u001b[0m         [(h['mask'],h['n_points']) for h in hrc if \n",
      "\u001b[1;32m<ipython-input-17-38193f59d985>\u001b[0m in \u001b[0;36m<genexpr>\u001b[1;34m(.0)\u001b[0m\n\u001b[0;32m      8\u001b[0m \u001b[1;33m\u001b[0m\u001b[0m\n\u001b[0;32m      9\u001b[0m \u001b[1;33m\u001b[0m\u001b[0m\n\u001b[1;32m---> 10\u001b[1;33m \u001b[1;32mfor\u001b[0m \u001b[0md\u001b[0m \u001b[1;32min\u001b[0m \u001b[0mset\u001b[0m\u001b[1;33m(\u001b[0m\u001b[0mh\u001b[0m\u001b[1;33m[\u001b[0m\u001b[1;34m'directory'\u001b[0m\u001b[1;33m]\u001b[0m \u001b[1;32mfor\u001b[0m \u001b[0mh\u001b[0m \u001b[1;32min\u001b[0m \u001b[0mhrc\u001b[0m\u001b[1;33m)\u001b[0m\u001b[1;33m:\u001b[0m\u001b[1;33m\u001b[0m\u001b[0m\n\u001b[0m\u001b[0;32m     11\u001b[0m     hrc_data = np.array(\n\u001b[0;32m     12\u001b[0m         [(h['mask'],h['n_points']) for h in hrc if \n",
      "\u001b[1;31mKeyError\u001b[0m: 'directory'"
     ]
    }
   ],
   "source": [
    "hrc_dtype = np.dtype([\n",
    "    (\"mask\", \"<u1\"),            \n",
    "    (\"n_points\", \"<u4\"),   \n",
    "    ])\n",
    "\n",
    "import re\n",
    "only_digits = re.compile(r\"\\D\")\n",
    "\n",
    "\n",
    "for d in set(h['directory'] for h in hrc):\n",
    "    hrc_data = np.array(\n",
    "        [(h['mask'],h['n_points']) for h in hrc if \n",
    "         h['parentDirectory'] == d or h['directory'] == d],\n",
    "        dtype=hrc_dtype)\n",
    "\n",
    "    hrc_data.tofile(os.path.join(d, 'r' + only_digits.sub(\"\",d) + '.hrc'))\n",
    "\n"
   ]
  },
  {
   "cell_type": "code",
   "execution_count": 18,
   "metadata": {
    "collapsed": false
   },
   "outputs": [
    {
     "ename": "NameError",
     "evalue": "name 'hdr' is not defined",
     "output_type": "error",
     "traceback": [
      "\u001b[1;31m---------------------------------------------------------------------------\u001b[0m",
      "\u001b[1;31mNameError\u001b[0m                                 Traceback (most recent call last)",
      "\u001b[1;32m<ipython-input-18-390d6f6677a7>\u001b[0m in \u001b[0;36m<module>\u001b[1;34m()\u001b[0m\n\u001b[0;32m     11\u001b[0m     },\n\u001b[0;32m     12\u001b[0m     \"tightBoundingBox\": {\n\u001b[1;32m---> 13\u001b[1;33m         \u001b[1;34m\"lx\"\u001b[0m\u001b[1;33m:\u001b[0m \u001b[0mhdr\u001b[0m\u001b[1;33m.\u001b[0m\u001b[0mmin\u001b[0m\u001b[1;33m[\u001b[0m\u001b[1;36m0\u001b[0m\u001b[1;33m]\u001b[0m\u001b[1;33m,\u001b[0m\u001b[1;33m\u001b[0m\u001b[0m\n\u001b[0m\u001b[0;32m     14\u001b[0m         \u001b[1;34m\"ly\"\u001b[0m\u001b[1;33m:\u001b[0m \u001b[0mhdr\u001b[0m\u001b[1;33m.\u001b[0m\u001b[0mmin\u001b[0m\u001b[1;33m[\u001b[0m\u001b[1;36m1\u001b[0m\u001b[1;33m]\u001b[0m\u001b[1;33m,\u001b[0m\u001b[1;33m\u001b[0m\u001b[0m\n\u001b[0;32m     15\u001b[0m         \u001b[1;34m\"lz\"\u001b[0m\u001b[1;33m:\u001b[0m \u001b[0mhdr\u001b[0m\u001b[1;33m.\u001b[0m\u001b[0mmin\u001b[0m\u001b[1;33m[\u001b[0m\u001b[1;36m2\u001b[0m\u001b[1;33m]\u001b[0m\u001b[1;33m,\u001b[0m\u001b[1;33m\u001b[0m\u001b[0m\n",
      "\u001b[1;31mNameError\u001b[0m: name 'hdr' is not defined"
     ]
    }
   ],
   "source": [
    "options = {\n",
    "    \"version\": \"1.6\",\n",
    "    \"octreeDir\": OUTPUT_DIR,\n",
    "    \"boundingBox\": {\n",
    "        \"lx\": BBOX['x'][0],\n",
    "        \"ly\": BBOX['y'][0],\n",
    "        \"lz\": BBOX['z'][0],\n",
    "        \"ux\": BBOX['x'][1],\n",
    "        \"uy\": BBOX['y'][1],\n",
    "        \"uz\": BBOX['z'][1]\n",
    "    },\n",
    "    \"tightBoundingBox\": {\n",
    "        \"lx\": hdr.min[0],\n",
    "        \"ly\": hdr.min[1],\n",
    "        \"lz\": hdr.min[2],\n",
    "        \"ux\": hdr.max[0],\n",
    "        \"uy\": hdr.max[1],\n",
    "        \"uz\": hdr.max[2]\n",
    "    },\n",
    "    \"pointAttributes\": [\"POSITION_CARTESIAN\"],\n",
    "    \"spacing\": 0.01,\n",
    "    \"scale\": SCALE,\n",
    "    \"hierarchyStepSize\": HIERACHY_STEP_SIZE,\n",
    "}\n",
    "print(json.dumps(options,sort_keys=True, indent=2, separators=(',', ': ')))\n",
    "with open('cloud.js','w') as f:\n",
    "    json.dump(options,f)"
   ]
  },
  {
   "cell_type": "code",
   "execution_count": null,
   "metadata": {
    "collapsed": true
   },
   "outputs": [],
   "source": []
  },
  {
   "cell_type": "code",
   "execution_count": null,
   "metadata": {
    "collapsed": true
   },
   "outputs": [],
   "source": []
  }
 ],
 "metadata": {
  "kernelspec": {
   "display_name": "Python 3",
   "language": "python",
   "name": "python3"
  },
  "language_info": {
   "codemirror_mode": {
    "name": "ipython",
    "version": 3
   },
   "file_extension": ".py",
   "mimetype": "text/x-python",
   "name": "python",
   "nbconvert_exporter": "python",
   "pygments_lexer": "ipython3",
   "version": "3.4.3"
  }
 },
 "nbformat": 4,
 "nbformat_minor": 0
}
