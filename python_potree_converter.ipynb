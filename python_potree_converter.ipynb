{
 "cells": [
  {
   "cell_type": "code",
   "execution_count": null,
   "metadata": {
    "collapsed": true
   },
   "outputs": [],
   "source": [
    "# script to convert *.las files to potree 1.6 compatible octrees using laspy and numpy.\n",
    "#\n",
    "# Code is setup to enable parallel processing\n",
    "# TODO: optimize code\n",
    "# TODO: allow multicore processing\n",
    "# TODO: allow more paramaters than just x,y,z to be parsed\n",
    "# TODO: change code to module\n",
    "# TODO: "
   ]
  },
  {
   "cell_type": "code",
   "execution_count": 81,
   "metadata": {
    "collapsed": true
   },
   "outputs": [],
   "source": [
    "import os\n",
    "import laspy \n",
    "import numpy as np\n",
    "from pprint import pprint\n",
    "import json"
   ]
  },
  {
   "cell_type": "code",
   "execution_count": 166,
   "metadata": {
    "collapsed": false
   },
   "outputs": [
    {
     "name": "stdout",
     "output_type": "stream",
     "text": [
      "\"C:\\Program Files (x86)\\lastools\\bin\\las2las.exe\" -i pointcloud_rotterdam_maas.laz -o pointcloud_rotterdam_maas.las \n"
     ]
    },
    {
     "data": {
      "text/plain": [
       "0"
      ]
     },
     "execution_count": 166,
     "metadata": {},
     "output_type": "execute_result"
    }
   ],
   "source": [
    "# A great source for *laz files is http://3dsm.bk.tudelft.nl/matahn \n",
    "# # convert laz to las\n",
    "# # C:\\Program Files (x86)\\lastools\\bin\n",
    "# f = r'pointcloud_rotterdam_maas.laz'\n",
    "# new_f = f.replace('.laz', '.las')\n",
    "# cmd = r'\"C:\\Program Files (x86)\\lastools\\bin\\las2las.exe\" -i {} -o {} '.format(f,new_f)\n",
    "# print(cmd)\n",
    "# # call system command\n",
    "# os.system(cmd)"
   ]
  },
  {
   "cell_type": "code",
   "execution_count": 167,
   "metadata": {
    "collapsed": false
   },
   "outputs": [],
   "source": [
    "lasfile = laspy.file.File(r'pointcloud_rotterdam_maas.las')"
   ]
  },
  {
   "cell_type": "code",
   "execution_count": 168,
   "metadata": {
    "collapsed": false
   },
   "outputs": [
    {
     "name": "stdout",
     "output_type": "stream",
     "text": [
      "[0.01, 0.01, 0.01] [0.0, 400000.0, 0.0]\n",
      "[97475.19, 437763.27, 161.28]\n",
      "[90728.32, 434483.92, -19.240000000000002]\n",
      "[  9.41020000e+04   4.36124000e+05   7.10000000e+01]\n"
     ]
    }
   ],
   "source": [
    "# http://pythonhosted.org/laspy/header.html\n",
    "hdr = lasfile.header\n",
    "print(hdr.scale, hdr.offset)\n",
    "print(hdr.max)\n",
    "print(hdr.min)\n",
    "\n",
    "# define maximum bounding cube for data. MUST be cube, so all sides equal length\n",
    "print(np.round((np.array(hdr.max) + np.array(hdr.min))/2))"
   ]
  },
  {
   "cell_type": "code",
   "execution_count": 169,
   "metadata": {
    "collapsed": false
   },
   "outputs": [
    {
     "name": "stdout",
     "output_type": "stream",
     "text": [
      "{'x': array([ 85674.,  98474.]), 'y': array([ 431370.,  444170.]), 'z': array([-5650.,  7150.])}\n",
      "[True, True, True]\n"
     ]
    }
   ],
   "source": [
    "CENTERS = {'x': 92074, 'y':437770, 'z':750}\n",
    "SMALLEST_TILE_SIZE = 100 # meter\n",
    "LEVELS =  7\n",
    "SCALE = 0.01\n",
    "\n",
    "# define size as nice power of two (not necessary)\n",
    "SIZE = SMALLEST_TILE_SIZE * 2 ** LEVELS\n",
    "BBOX = {k: np.array([v-SIZE/2, v+SIZE/2]) for k, v in CENTERS.items()}\n",
    "\n",
    "print(BBOX)\n",
    "# check if all points are within bounding box\n",
    "print([h_min>=BBOX[dim][0] and h_max<=BBOX[dim][1] for\n",
    "       dim, h_min, h_max in zip(['x','y','z'],hdr.min,hdr.max)])\n",
    "\n"
   ]
  },
  {
   "cell_type": "code",
   "execution_count": 170,
   "metadata": {
    "collapsed": false
   },
   "outputs": [
    {
     "name": "stdout",
     "output_type": "stream",
     "text": [
      "{'x': array([8567400, 9847400]), 'y': array([3137000, 4417000]), 'z': array([-565000,  715000])}\n"
     ]
    }
   ],
   "source": [
    "# to avoid duplicating the point coordinates in memory, discretize the points based on their raw coordinates\n",
    "# in unscaled integers\n",
    "\n",
    "bbox_unscaled = {dim: ((BBOX[dim]-offset)/scale).astype('i4') for \n",
    "               dim, scale, offset in zip(['x','y','z'], hdr.scale, hdr.offset)}\n",
    "print(bbox_unscaled)"
   ]
  },
  {
   "cell_type": "code",
   "execution_count": 171,
   "metadata": {
    "collapsed": false
   },
   "outputs": [],
   "source": [
    "# determine the bins to classify points\n",
    "bins = {dim: np.linspace(bbox_unscaled[dim][0],\n",
    "                         bbox_unscaled[dim][1],\n",
    "                         2**(LEVELS)+1\n",
    "                   ).astype('i4')[1:-1] for dim in ['x','y','z']}"
   ]
  },
  {
   "cell_type": "code",
   "execution_count": 173,
   "metadata": {
    "collapsed": false
   },
   "outputs": [],
   "source": [
    "# put all points in bins\n",
    "binned = [np.digitize(getattr(lasfile,dim.upper()),bins[dim]) for dim in ['x','y','z']]"
   ]
  },
  {
   "cell_type": "code",
   "execution_count": 174,
   "metadata": {
    "collapsed": false
   },
   "outputs": [
    {
     "name": "stdout",
     "output_type": "stream",
     "text": [
      "test\\r\\r000.bin\n",
      "test\\r\\1123\\1231\\r112312312.bin\n",
      "test\\r\\7000\\r7000.bin\n",
      "test\\r\\r.bin\n"
     ]
    }
   ],
   "source": [
    "HIERACHY_STEP_SIZE = 4\n",
    "def address_to_filename(address):\n",
    "    if address is '':\n",
    "        return os.path.join('test','r','r.bin')\n",
    "\n",
    "    parts = [address[i:i+HIERACHY_STEP_SIZE] for i in range(0, len(address)+1, HIERACHY_STEP_SIZE)]\n",
    "    parts[-1]='r' + address + '.bin'\n",
    "    return os.path.join('test','r',*parts)\n",
    "\n",
    "print(address_to_filename('000'))\n",
    "print(address_to_filename('112312312'))  \n",
    "print(address_to_filename('7000'))\n",
    "print(address_to_filename(''))\n"
   ]
  },
  {
   "cell_type": "code",
   "execution_count": 175,
   "metadata": {
    "collapsed": false
   },
   "outputs": [
    {
     "name": "stdout",
     "output_type": "stream",
     "text": [
      "0 0 0\n",
      "0 272500 1095000\n",
      "640000 640000 640000\n",
      "0 0 0\n"
     ]
    }
   ],
   "source": [
    "def address_2_origin(address):\n",
    "    if address == '':\n",
    "        address = '0'\n",
    "\n",
    "    # return origin relative to bounding box origin in unscaled values\n",
    "    level = len(address)\n",
    "    bin_parts = [bin(int(c)+8)[3::] for c in address]\n",
    "    x0 = int((int(''.join([b[0] for b in bin_parts]),2) / 2**level) * SIZE / SCALE)\n",
    "    y0 = int((int(''.join([b[1] for b in bin_parts]),2) / 2**level) * SIZE / SCALE)\n",
    "    z0 = int((int(''.join([b[2] for b in bin_parts]),2) / 2**level) * SIZE / SCALE)\n",
    "    return (x0, y0, z0)\n",
    "\n",
    "print(*address_2_origin('000'))\n",
    "print(*address_2_origin('112312312'))  \n",
    "print(*address_2_origin('7000'))\n",
    "print(*address_2_origin(''))"
   ]
  },
  {
   "cell_type": "code",
   "execution_count": 176,
   "metadata": {
    "collapsed": false
   },
   "outputs": [
    {
     "name": "stdout",
     "output_type": "stream",
     "text": [
      "removed 1 files\n",
      "removed 4 files\n",
      "removed 4 files\n",
      "removed 4 files\n",
      "removed 4 files\n",
      "removed 16 files\n"
     ]
    }
   ],
   "source": [
    "from pathlib import Path\n",
    "p = Path('test/r')\n",
    "for n in range(0,LEVELS-1):\n",
    "    print('removed',len([f.unlink() for f in p.rglob('r'+'?' * (n) + '.bin')]),'files')\n"
   ]
  },
  {
   "cell_type": "code",
   "execution_count": 177,
   "metadata": {
    "collapsed": false
   },
   "outputs": [],
   "source": [
    "addresses = []\n",
    "for x in set(binned[0]):\n",
    "    p = np.equal(binned[0],x)\n",
    "    subset_x = [b[p] for b in binned]\n",
    "    address_x = bin(x + 2**LEVELS)[-LEVELS::]\n",
    "    \n",
    "    for y in set(subset_x[1]):\n",
    "        q = np.equal(subset_x[1],y)\n",
    "        subset_xy = [b[q] for b in subset_x]\n",
    "        address_y = bin(y + 2**LEVELS)[-LEVELS::]\n",
    "        \n",
    "        for z in set(subset_xy[2]):\n",
    "            r = np.equal(subset_xy[2],z)\n",
    "            subset_xyz = [b[r] for b in subset_xy]\n",
    "            address_z = bin(z + 2**LEVELS)[-LEVELS::]\n",
    "            \n",
    "            # make filename of 0-7's\n",
    "            # https://github.com/potree/potree/blob/master/docs/file_format.md\n",
    "            address = ''.join([str(int(''.join((x,y,z)),2)) for x,y,z in zip(address_x,address_y,address_z)])\n",
    "            addresses.append(address)\n",
    "            filename = address_to_filename(address)\n",
    "            # print(filename)\n",
    "            \n",
    "            # extract relevant subset of data\n",
    "            subset = np.where(p)[0][q][r]\n",
    "            \n",
    "            # convert points from int32 relative to hdr.scale and hdr.offset to uint32 relative to SCALE, BBOX\n",
    "            # and the tile box address\n",
    "            x0, y0, z0 = address_2_origin(address)\n",
    "            \n",
    "            if not os.path.exists(os.path.dirname(filename)):\n",
    "                os.makedirs(os.path.dirname(filename))\n",
    "            np.vstack((\n",
    "                 (((lasfile.X[subset] * hdr.scale[0]) + hdr.offset[0] - BBOX['x'][0]) / SCALE).astype('<u4') - x0,\n",
    "                 (((lasfile.Y[subset] * hdr.scale[1]) + hdr.offset[1] - BBOX['y'][0]) / SCALE).astype('<u4') - y0,\n",
    "                 (((lasfile.Z[subset] * hdr.scale[2]) + hdr.offset[2] - BBOX['z'][0]) / SCALE).astype('<u4') - z0\n",
    "                 )).transpose().tofile(filename)\n",
    "            \n"
   ]
  },
  {
   "cell_type": "code",
   "execution_count": 178,
   "metadata": {
    "collapsed": false
   },
   "outputs": [
    {
     "name": "stdout",
     "output_type": "stream",
     "text": [
      "['0573262', '0753444', '0755666', '0771442', '0775240', '0777464', '4137662', '4313040', '4315405', '4317466', '4331662', '4333626', '4337020', '4351240', '4353620', '4357226', '4371600', '4375042', '4377422', '4711600', '4715040', '4717440', '4733002', '4735402', '4751000', '4753426', '4773240']\n"
     ]
    }
   ],
   "source": [
    "# from pathlib import Path\n",
    "import re\n",
    "only_digits = re.compile(r\"\\D\")\n",
    "\n",
    "p = Path('test/r')\n",
    "addresses = [only_digits.sub(\"\",paths.parts[-1]) for paths in p.glob('**/r*.bin')]\n",
    "print(addresses[::100])"
   ]
  },
  {
   "cell_type": "code",
   "execution_count": 179,
   "metadata": {
    "collapsed": false
   },
   "outputs": [],
   "source": [
    "# convert tree to tree\n",
    "tree = {}\n",
    "for a in addresses:\n",
    "    t = tree\n",
    "    for s in a:\n",
    "        if s not in t:\n",
    "            t[s] = {} \n",
    "        t = t[s]"
   ]
  },
  {
   "cell_type": "code",
   "execution_count": 180,
   "metadata": {
    "collapsed": false
   },
   "outputs": [],
   "source": [
    "# print(json.dumps(tree,sort_keys=True, indent=2, separators=(',', ': ')))\n",
    "# convert to list of all possible tiles, and their children\n",
    "\n",
    "def nodes_to_list(prefix, key, value):\n",
    "    hrc = [{'address':prefix+key,\n",
    "            'children': tuple(value.keys())}, \n",
    "          ]\n",
    "    \n",
    "    [hrc.extend(nodes_to_list(prefix+key,k,v)) for k, v in value.items()]\n",
    "    \n",
    "    return hrc\n",
    "\n",
    "hrc = nodes_to_list('','',tree)\n",
    "hrc.sort(key=lambda k: (len(k['address']), k['address']))\n"
   ]
  },
  {
   "cell_type": "code",
   "execution_count": 181,
   "metadata": {
    "collapsed": false
   },
   "outputs": [
    {
     "name": "stdout",
     "output_type": "stream",
     "text": [
      "[{'address': '6111602',\n",
      "  'children': (),\n",
      "  'directory': 'test\\\\r\\\\6111',\n",
      "  'filename': 'test\\\\r\\\\6111\\\\r6111602.bin',\n",
      "  'mask': 0,\n",
      "  'parentDirectory': 'test\\\\r\\\\6111'},\n",
      " {'address': '6111604',\n",
      "  'children': (),\n",
      "  'directory': 'test\\\\r\\\\6111',\n",
      "  'filename': 'test\\\\r\\\\6111\\\\r6111604.bin',\n",
      "  'mask': 0,\n",
      "  'parentDirectory': 'test\\\\r\\\\6111'},\n",
      " {'address': '6111606',\n",
      "  'children': (),\n",
      "  'directory': 'test\\\\r\\\\6111',\n",
      "  'filename': 'test\\\\r\\\\6111\\\\r6111606.bin',\n",
      "  'mask': 0,\n",
      "  'parentDirectory': 'test\\\\r\\\\6111'},\n",
      " {'address': '6111640',\n",
      "  'children': (),\n",
      "  'directory': 'test\\\\r\\\\6111',\n",
      "  'filename': 'test\\\\r\\\\6111\\\\r6111640.bin',\n",
      "  'mask': 0,\n",
      "  'parentDirectory': 'test\\\\r\\\\6111'}]\n"
     ]
    }
   ],
   "source": [
    "for item in hrc:\n",
    "    filename = address_to_filename(item['address'])\n",
    "    item.update(\n",
    "        {\n",
    "            'mask': sum([2 ** int(c) for c in item['children']]),\n",
    "            'filename': filename,\n",
    "            'directory': os.path.dirname(filename),\n",
    "            'parentDirectory': os.path.dirname(address_to_filename(item['address'][:-1]))\n",
    "        })\n",
    "    \n",
    "pprint(hrc[-5:-1])"
   ]
  },
  {
   "cell_type": "code",
   "execution_count": 182,
   "metadata": {
    "collapsed": false
   },
   "outputs": [],
   "source": [
    "dt = np.dtype([('x','<u4'),('y','<u4'),('z','<u4')])\n",
    "def read_file_at_address(address):\n",
    "    points = np.fromfile(address_to_filename(address),dtype=dt)\n",
    "    x0, y0, z0 = address_2_origin(address)\n",
    "    points['x'] += x0\n",
    "    points['y'] += y0\n",
    "    points['z'] += z0\n",
    "    return(points)"
   ]
  },
  {
   "cell_type": "code",
   "execution_count": 183,
   "metadata": {
    "collapsed": false
   },
   "outputs": [],
   "source": [
    "for h in hrc[::-1]:\n",
    "    if not os.path.exists(h['filename']):\n",
    "        points = np.hstack([read_file_at_address(h['address']+child) for child in h['children']])\n",
    "        \n",
    "        x0, y0, z0 = address_2_origin(h['address'])\n",
    "        points['x'] -= x0\n",
    "        points['y'] -= y0\n",
    "        points['z'] -= z0\n",
    "\n",
    "        points[::10].tofile(h['filename'])\n",
    "    h['n_points'] = int(os.stat(h['filename']).st_size / dt.itemsize)\n",
    "        "
   ]
  },
  {
   "cell_type": "code",
   "execution_count": 184,
   "metadata": {
    "collapsed": false
   },
   "outputs": [],
   "source": [
    "hrc_dtype = np.dtype([\n",
    "    (\"mask\", \"<u1\"),            \n",
    "    (\"n_points\", \"<u4\"),   \n",
    "    ])\n",
    "\n",
    "import re\n",
    "only_digits = re.compile(r\"\\D\")\n",
    "\n",
    "\n",
    "for d in set(h['directory'] for h in hrc):\n",
    "    hrc_data = np.array(\n",
    "        [(h['mask'],h['n_points']) for h in hrc if \n",
    "         h['parentDirectory'] == d or h['directory'] == d],\n",
    "        dtype=hrc_dtype)\n",
    "\n",
    "    hrc_data.tofile(os.path.join(d, 'r' + only_digits.sub(\"\",d) + '.hrc'))\n",
    "\n"
   ]
  },
  {
   "cell_type": "code",
   "execution_count": 185,
   "metadata": {
    "collapsed": false
   },
   "outputs": [
    {
     "name": "stdout",
     "output_type": "stream",
     "text": [
      "{\n",
      "  \"boundingBox\": {\n",
      "    \"lx\": 85674.0,\n",
      "    \"ly\": 431370.0,\n",
      "    \"lz\": -5650.0,\n",
      "    \"ux\": 98474.0,\n",
      "    \"uy\": 444170.0,\n",
      "    \"uz\": 7150.0\n",
      "  },\n",
      "  \"hierarchyStepSize\": 4,\n",
      "  \"octreeDir\": \"test\",\n",
      "  \"pointAttributes\": [\n",
      "    \"POSITION_CARTESIAN\"\n",
      "  ],\n",
      "  \"scale\": 0.01,\n",
      "  \"spacing\": 0.01,\n",
      "  \"tightBoundingBox\": {\n",
      "    \"lx\": 90728.32,\n",
      "    \"ly\": 434483.92,\n",
      "    \"lz\": -19.240000000000002,\n",
      "    \"ux\": 97475.19,\n",
      "    \"uy\": 437763.27,\n",
      "    \"uz\": 161.28\n",
      "  },\n",
      "  \"version\": \"1.6\"\n",
      "}\n"
     ]
    }
   ],
   "source": [
    "options = {\n",
    "    \"version\": \"1.6\",\n",
    "    \"octreeDir\": \"test\",\n",
    "    \"boundingBox\": {\n",
    "        \"lx\": BBOX['x'][0],\n",
    "        \"ly\": BBOX['y'][0],\n",
    "        \"lz\": BBOX['z'][0],\n",
    "        \"ux\": BBOX['x'][1],\n",
    "        \"uy\": BBOX['y'][1],\n",
    "        \"uz\": BBOX['z'][1]\n",
    "    },\n",
    "    \"tightBoundingBox\": {\n",
    "        \"lx\": hdr.min[0],\n",
    "        \"ly\": hdr.min[1],\n",
    "        \"lz\": hdr.min[2],\n",
    "        \"ux\": hdr.max[0],\n",
    "        \"uy\": hdr.max[1],\n",
    "        \"uz\": hdr.max[2]\n",
    "    },\n",
    "    \"pointAttributes\": [\"POSITION_CARTESIAN\"],\n",
    "    \"spacing\": 0.01,\n",
    "    \"scale\": SCALE,\n",
    "    \"hierarchyStepSize\": HIERACHY_STEP_SIZE,\n",
    "}\n",
    "print(json.dumps(options,sort_keys=True, indent=2, separators=(',', ': ')))\n",
    "with open('cloud.js','w') as f:\n",
    "    json.dump(options,f)"
   ]
  },
  {
   "cell_type": "code",
   "execution_count": null,
   "metadata": {
    "collapsed": true
   },
   "outputs": [],
   "source": []
  },
  {
   "cell_type": "code",
   "execution_count": null,
   "metadata": {
    "collapsed": true
   },
   "outputs": [],
   "source": []
  }
 ],
 "metadata": {
  "kernelspec": {
   "display_name": "Python 3",
   "language": "python",
   "name": "python3"
  },
  "language_info": {
   "codemirror_mode": {
    "name": "ipython",
    "version": 3
   },
   "file_extension": ".py",
   "mimetype": "text/x-python",
   "name": "python",
   "nbconvert_exporter": "python",
   "pygments_lexer": "ipython3",
   "version": "3.4.2"
  }
 },
 "nbformat": 4,
 "nbformat_minor": 0
}
